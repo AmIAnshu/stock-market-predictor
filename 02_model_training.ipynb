{
 "cells": [
  {
   "cell_type": "code",
   "execution_count": null,
   "id": "a51c2b50",
   "metadata": {
    "vscode": {
     "languageId": "plaintext"
    }
   },
   "outputs": [],
   "source": [
    "# %%\n",
    "import pandas as pd\n",
    "import sqlite3\n",
    "import matplotlib.pyplot as plt\n",
    "import seaborn as sns\n",
    "\n",
    "# --- 1. Load Data from the Database ---\n",
    "DB_NAME = \"stock_data.db\"\n",
    "STOCK_TICKER = \"AAPL\" # Make sure this matches the table name\n",
    "\n",
    "# Connect to the database\n",
    "conn = sqlite3.connect(DB_NAME)\n",
    "\n",
    "# Load the data using a SQL query into a pandas DataFrame\n",
    "# \"SELECT * FROM AAPL\" means \"get all columns from the AAPL table\"\n",
    "query = f\"SELECT * FROM {STOCK_TICKER}\"\n",
    "df = pd.read_sql_query(query, conn)\n",
    "\n",
    "# Close the connection\n",
    "conn.close()\n",
    "\n",
    "# Teaching Moment: The 'Date' column was stored as text. We need to convert it\n",
    "# back to a proper datetime format to work with it for plotting and analysis.\n",
    "df['Date'] = pd.to_datetime(df['Date'])\n",
    "df.set_index('Date', inplace=True) # Set the Date as the index of the DataFrame\n",
    "\n",
    "print(\"Data loaded successfully. Here's the information about our dataset:\")\n",
    "df.info()\n",
    "\n",
    "# Display the first few rows\n",
    "df.head()"
   ]
  },
  {
   "cell_type": "code",
   "execution_count": null,
   "id": "aaa48f3a",
   "metadata": {
    "vscode": {
     "languageId": "plaintext"
    }
   },
   "outputs": [],
   "source": [
    "# %%\n",
    "# .describe() gives you a summary of the main statistics for each numerical column\n",
    "# (count, mean, standard deviation, min, max, etc.)\n",
    "print(\"Statistical Summary:\")\n",
    "df.describe()"
   ]
  },
  {
   "cell_type": "code",
   "execution_count": null,
   "id": "ac163894",
   "metadata": {
    "vscode": {
     "languageId": "plaintext"
    }
   },
   "outputs": [],
   "source": [
    "# %%\n",
    "# Check for any missing values in the dataset\n",
    "print(\"Missing values in each column:\")\n",
    "print(df.isnull().sum())"
   ]
  },
  {
   "cell_type": "code",
   "execution_count": null,
   "id": "2e518ec7",
   "metadata": {
    "vscode": {
     "languageId": "plaintext"
    }
   },
   "outputs": [],
   "source": [
    "# %%\n",
    "# Set the style for our plots\n",
    "plt.style.use('seaborn-v0_8-whitegrid')\n",
    "\n",
    "# Create the plot\n",
    "plt.figure(figsize=(14, 7))\n",
    "plt.plot(df['Close'], label=f'{STOCK_TICKER} Close Price')\n",
    "\n",
    "# Add titles and labels for clarity\n",
    "plt.title(f'{STOCK_TICKER} Historical Close Price', fontsize=16)\n",
    "plt.xlabel('Date', fontsize=12)\n",
    "plt.ylabel('Price (USD)', fontsize=12)\n",
    "plt.legend()\n",
    "plt.show()"
   ]
  },
  {
   "cell_type": "code",
   "execution_count": null,
   "id": "a811fe05",
   "metadata": {
    "vscode": {
     "languageId": "plaintext"
    }
   },
   "outputs": [],
   "source": [
    "# %%\n",
    "# Calculate the 50-day and 200-day Simple Moving Averages (SMA)\n",
    "df['SMA_50'] = df['Close'].rolling(window=50).mean()\n",
    "df['SMA_200'] = df['Close'].rolling(window=200).mean()\n",
    "\n",
    "# Plot the Close price along with the moving averages\n",
    "plt.figure(figsize=(14, 7))\n",
    "plt.plot(df['Close'], label='Close Price')\n",
    "plt.plot(df['SMA_50'], label='50-Day Moving Average', color='orange')\n",
    "plt.plot(df['SMA_200'], label='200-Day Moving Average', color='red')\n",
    "\n",
    "plt.title(f'{STOCK_TICKER} Close Price with Moving Averages', fontsize=16)\n",
    "plt.xlabel('Date', fontsize=12)\n",
    "plt.ylabel('Price (USD)', fontsize=12)\n",
    "plt.legend()\n",
    "plt.show()"
   ]
  },
  {
   "cell_type": "code",
   "execution_count": null,
   "id": "9674aa67",
   "metadata": {
    "vscode": {
     "languageId": "plaintext"
    }
   },
   "outputs": [],
   "source": [
    "# %%\n",
    "# --- 3. Prepare Data for Modeling ---\n",
    "\n",
    "# We want to predict the next day's 'Close' price.\n",
    "# So, our 'target' or 'y' is the 'Close' price shifted by one day.\n",
    "df['Prediction'] = df['Close'].shift(-1)\n",
    "\n",
    "# Our 'features' or 'X' are the columns we'll use for prediction.\n",
    "# Let's drop the original columns that aren't numeric features.\n",
    "# And we also drop the 'Prediction' column from our feature set.\n",
    "X = df.drop(['Prediction', 'Open', 'High', 'Low', 'Adj Close', 'Volume'], axis=1)\n",
    "\n",
    "# The target variable is the 'Prediction' column\n",
    "y = df['Prediction']\n",
    "\n",
    "# The shift() and rolling() operations create NaN (Not a Number) values.\n",
    "# We must remove them before training the model.\n",
    "print(f\"Original shape: {X.shape}\")\n",
    "original_X_index = X.index # Keep track of dates before dropping NaNs\n",
    "\n",
    "# Drop rows with NaN values from both X and y\n",
    "X = X.dropna()\n",
    "y = y.loc[X.index] # Make sure y has the same rows as X\n",
    "\n",
    "print(f\"Shape after dropping NaNs: {X.shape}\")\n",
    "\n",
    "X.head()"
   ]
  },
  {
   "cell_type": "code",
   "execution_count": null,
   "id": "cc4593dd",
   "metadata": {
    "vscode": {
     "languageId": "plaintext"
    }
   },
   "outputs": [],
   "source": [
    "# %%\n",
    "from sklearn.model_selection import train_test_split\n",
    "\n",
    "# We will not split randomly, but by date. Let's take the last 20% of the data for testing.\n",
    "test_size = 0.2\n",
    "split_index = int(len(X) * (1 - test_size))\n",
    "\n",
    "# Split the data chronologically\n",
    "X_train = X[:split_index]\n",
    "X_test = X[split_index:]\n",
    "y_train = y[:split_index]\n",
    "y_test = y[split_index:]\n",
    "\n",
    "print(\"Training set shape:\", X_train.shape)\n",
    "print(\"Testing set shape:\", X_test.shape)"
   ]
  },
  {
   "cell_type": "code",
   "execution_count": null,
   "id": "1413499e",
   "metadata": {
    "vscode": {
     "languageId": "plaintext"
    }
   },
   "outputs": [],
   "source": [
    "# %%\n",
    "from sklearn.linear_model import LinearRegression\n",
    "from sklearn.metrics import mean_squared_error\n",
    "import numpy as np\n",
    "\n",
    "# Create an instance of the Linear Regression model\n",
    "model = LinearRegression()\n",
    "\n",
    "# Train the model on the training data\n",
    "model.fit(X_train, y_train)\n",
    "\n",
    "print(\"Model training complete.\")"
   ]
  },
  {
   "cell_type": "code",
   "execution_count": null,
   "id": "74feb7a9",
   "metadata": {
    "vscode": {
     "languageId": "plaintext"
    }
   },
   "outputs": [],
   "source": [
    "# %%\n",
    "# Make predictions on the test data\n",
    "predictions = model.predict(X_test)\n",
    "\n",
    "# Calculate the error. We'll use Root Mean Squared Error (RMSE).\n",
    "# This tells us, on average, how many dollars off our prediction was.\n",
    "rmse = np.sqrt(mean_squared_error(y_test, predictions))\n",
    "print(f\"Root Mean Squared Error (RMSE): ${rmse:.2f}\")\n",
    "\n",
    "# For context, let's see the average stock price in the test set\n",
    "print(f\"Average price in test set: ${y_test.mean():.2f}\")"
   ]
  },
  {
   "cell_type": "code",
   "execution_count": null,
   "id": "389f1a05",
   "metadata": {
    "vscode": {
     "languageId": "plaintext"
    }
   },
   "outputs": [],
   "source": [
    "# %%\n",
    "# Create a new DataFrame for plotting\n",
    "results = pd.DataFrame({'Actual': y_test, 'Predicted': predictions}, index=y_test.index)\n",
    "\n",
    "# Plot the actual vs. predicted prices\n",
    "plt.figure(figsize=(14, 7))\n",
    "plt.plot(results['Actual'], label='Actual Price')\n",
    "plt.plot(results['Predicted'], label='Predicted Price', color='red', linestyle='--')\n",
    "plt.title('Actual vs. Predicted Stock Prices', fontsize=16)\n",
    "plt.xlabel('Date', fontsize=12)\n",
    "plt.ylabel('Price (USD)', fontsize=12)\n",
    "plt.legend()\n",
    "plt.show()"
   ]
  }
 ],
 "metadata": {
  "language_info": {
   "name": "python"
  }
 },
 "nbformat": 4,
 "nbformat_minor": 5
}
